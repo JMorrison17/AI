{
  "nbformat": 4,
  "nbformat_minor": 0,
  "metadata": {
    "colab": {
      "provenance": [],
      "authorship_tag": "ABX9TyMbzcQOW8nnPe9NkVR6X1Wx",
      "include_colab_link": true
    },
    "kernelspec": {
      "name": "python3",
      "display_name": "Python 3"
    },
    "language_info": {
      "name": "python"
    }
  },
  "cells": [
    {
      "cell_type": "markdown",
      "metadata": {
        "id": "view-in-github",
        "colab_type": "text"
      },
      "source": [
        "<a href=\"https://colab.research.google.com/github/JMorrison17/AI/blob/main/Comparative_Evaluation.ipynb\" target=\"_parent\"><img src=\"https://colab.research.google.com/assets/colab-badge.svg\" alt=\"Open In Colab\"/></a>"
      ]
    },
    {
      "cell_type": "markdown",
      "source": [
        "## Introduction\n",
        "\n",
        "The data set is a entity-level Twitter Sentiment analysis dataset, with the goal being to judge the sentiment of each tweet towards a given entity.\n",
        "\n",
        "The training dataset contains ~70K rows.\n",
        "Each Row contains a tweet ID, topic/entity, sentiment label and tweet content.\n",
        "\n",
        "I decided to perform text classification on this dataset.\n",
        "Originally the dataset contains 4 labels 'Positive','Negative','Neutral' and 'Irellevant' I decided to simplify to just Positive and Negative as the models perform much better.\n",
        "\n",
        "I also only used the first 2000 rows about the entity 'Borderlands' to further simplify the task, and I also found that when doing 25k rows it took 1 hour to train and didn't provide any noticeable accuracy improvements."
      ],
      "metadata": {
        "id": "jcgrB3UcMNXI"
      }
    },
    {
      "cell_type": "code",
      "source": [
        "import numpy as np #import numpy to enable array functionality\n",
        "import io #io we use to load the data after uploading (as colab uses dictionaries to store uploaded files)\n",
        "import pandas as pd\n",
        "from google.colab import files #finally, we import the files package from google.colab framework to be able to upload files\n",
        "\n",
        "uploaded = files.upload()\n",
        "dataset = pd.read_csv('twitter_training.csv') #we will convert to a numpy array, where the first column is the text and the second column is the label\n"
      ],
      "metadata": {
        "colab": {
          "base_uri": "https://localhost:8080/",
          "height": 73
        },
        "id": "rubk2y4rGx7y",
        "outputId": "921453d6-2553-4062-813b-1f6bd934668b"
      },
      "execution_count": 1,
      "outputs": [
        {
          "output_type": "display_data",
          "data": {
            "text/plain": [
              "<IPython.core.display.HTML object>"
            ],
            "text/html": [
              "\n",
              "     <input type=\"file\" id=\"files-8c77de39-809f-4f96-a785-dd87d433b7f4\" name=\"files[]\" multiple disabled\n",
              "        style=\"border:none\" />\n",
              "     <output id=\"result-8c77de39-809f-4f96-a785-dd87d433b7f4\">\n",
              "      Upload widget is only available when the cell has been executed in the\n",
              "      current browser session. Please rerun this cell to enable.\n",
              "      </output>\n",
              "      <script>// Copyright 2017 Google LLC\n",
              "//\n",
              "// Licensed under the Apache License, Version 2.0 (the \"License\");\n",
              "// you may not use this file except in compliance with the License.\n",
              "// You may obtain a copy of the License at\n",
              "//\n",
              "//      http://www.apache.org/licenses/LICENSE-2.0\n",
              "//\n",
              "// Unless required by applicable law or agreed to in writing, software\n",
              "// distributed under the License is distributed on an \"AS IS\" BASIS,\n",
              "// WITHOUT WARRANTIES OR CONDITIONS OF ANY KIND, either express or implied.\n",
              "// See the License for the specific language governing permissions and\n",
              "// limitations under the License.\n",
              "\n",
              "/**\n",
              " * @fileoverview Helpers for google.colab Python module.\n",
              " */\n",
              "(function(scope) {\n",
              "function span(text, styleAttributes = {}) {\n",
              "  const element = document.createElement('span');\n",
              "  element.textContent = text;\n",
              "  for (const key of Object.keys(styleAttributes)) {\n",
              "    element.style[key] = styleAttributes[key];\n",
              "  }\n",
              "  return element;\n",
              "}\n",
              "\n",
              "// Max number of bytes which will be uploaded at a time.\n",
              "const MAX_PAYLOAD_SIZE = 100 * 1024;\n",
              "\n",
              "function _uploadFiles(inputId, outputId) {\n",
              "  const steps = uploadFilesStep(inputId, outputId);\n",
              "  const outputElement = document.getElementById(outputId);\n",
              "  // Cache steps on the outputElement to make it available for the next call\n",
              "  // to uploadFilesContinue from Python.\n",
              "  outputElement.steps = steps;\n",
              "\n",
              "  return _uploadFilesContinue(outputId);\n",
              "}\n",
              "\n",
              "// This is roughly an async generator (not supported in the browser yet),\n",
              "// where there are multiple asynchronous steps and the Python side is going\n",
              "// to poll for completion of each step.\n",
              "// This uses a Promise to block the python side on completion of each step,\n",
              "// then passes the result of the previous step as the input to the next step.\n",
              "function _uploadFilesContinue(outputId) {\n",
              "  const outputElement = document.getElementById(outputId);\n",
              "  const steps = outputElement.steps;\n",
              "\n",
              "  const next = steps.next(outputElement.lastPromiseValue);\n",
              "  return Promise.resolve(next.value.promise).then((value) => {\n",
              "    // Cache the last promise value to make it available to the next\n",
              "    // step of the generator.\n",
              "    outputElement.lastPromiseValue = value;\n",
              "    return next.value.response;\n",
              "  });\n",
              "}\n",
              "\n",
              "/**\n",
              " * Generator function which is called between each async step of the upload\n",
              " * process.\n",
              " * @param {string} inputId Element ID of the input file picker element.\n",
              " * @param {string} outputId Element ID of the output display.\n",
              " * @return {!Iterable<!Object>} Iterable of next steps.\n",
              " */\n",
              "function* uploadFilesStep(inputId, outputId) {\n",
              "  const inputElement = document.getElementById(inputId);\n",
              "  inputElement.disabled = false;\n",
              "\n",
              "  const outputElement = document.getElementById(outputId);\n",
              "  outputElement.innerHTML = '';\n",
              "\n",
              "  const pickedPromise = new Promise((resolve) => {\n",
              "    inputElement.addEventListener('change', (e) => {\n",
              "      resolve(e.target.files);\n",
              "    });\n",
              "  });\n",
              "\n",
              "  const cancel = document.createElement('button');\n",
              "  inputElement.parentElement.appendChild(cancel);\n",
              "  cancel.textContent = 'Cancel upload';\n",
              "  const cancelPromise = new Promise((resolve) => {\n",
              "    cancel.onclick = () => {\n",
              "      resolve(null);\n",
              "    };\n",
              "  });\n",
              "\n",
              "  // Wait for the user to pick the files.\n",
              "  const files = yield {\n",
              "    promise: Promise.race([pickedPromise, cancelPromise]),\n",
              "    response: {\n",
              "      action: 'starting',\n",
              "    }\n",
              "  };\n",
              "\n",
              "  cancel.remove();\n",
              "\n",
              "  // Disable the input element since further picks are not allowed.\n",
              "  inputElement.disabled = true;\n",
              "\n",
              "  if (!files) {\n",
              "    return {\n",
              "      response: {\n",
              "        action: 'complete',\n",
              "      }\n",
              "    };\n",
              "  }\n",
              "\n",
              "  for (const file of files) {\n",
              "    const li = document.createElement('li');\n",
              "    li.append(span(file.name, {fontWeight: 'bold'}));\n",
              "    li.append(span(\n",
              "        `(${file.type || 'n/a'}) - ${file.size} bytes, ` +\n",
              "        `last modified: ${\n",
              "            file.lastModifiedDate ? file.lastModifiedDate.toLocaleDateString() :\n",
              "                                    'n/a'} - `));\n",
              "    const percent = span('0% done');\n",
              "    li.appendChild(percent);\n",
              "\n",
              "    outputElement.appendChild(li);\n",
              "\n",
              "    const fileDataPromise = new Promise((resolve) => {\n",
              "      const reader = new FileReader();\n",
              "      reader.onload = (e) => {\n",
              "        resolve(e.target.result);\n",
              "      };\n",
              "      reader.readAsArrayBuffer(file);\n",
              "    });\n",
              "    // Wait for the data to be ready.\n",
              "    let fileData = yield {\n",
              "      promise: fileDataPromise,\n",
              "      response: {\n",
              "        action: 'continue',\n",
              "      }\n",
              "    };\n",
              "\n",
              "    // Use a chunked sending to avoid message size limits. See b/62115660.\n",
              "    let position = 0;\n",
              "    do {\n",
              "      const length = Math.min(fileData.byteLength - position, MAX_PAYLOAD_SIZE);\n",
              "      const chunk = new Uint8Array(fileData, position, length);\n",
              "      position += length;\n",
              "\n",
              "      const base64 = btoa(String.fromCharCode.apply(null, chunk));\n",
              "      yield {\n",
              "        response: {\n",
              "          action: 'append',\n",
              "          file: file.name,\n",
              "          data: base64,\n",
              "        },\n",
              "      };\n",
              "\n",
              "      let percentDone = fileData.byteLength === 0 ?\n",
              "          100 :\n",
              "          Math.round((position / fileData.byteLength) * 100);\n",
              "      percent.textContent = `${percentDone}% done`;\n",
              "\n",
              "    } while (position < fileData.byteLength);\n",
              "  }\n",
              "\n",
              "  // All done.\n",
              "  yield {\n",
              "    response: {\n",
              "      action: 'complete',\n",
              "    }\n",
              "  };\n",
              "}\n",
              "\n",
              "scope.google = scope.google || {};\n",
              "scope.google.colab = scope.google.colab || {};\n",
              "scope.google.colab._files = {\n",
              "  _uploadFiles,\n",
              "  _uploadFilesContinue,\n",
              "};\n",
              "})(self);\n",
              "</script> "
            ]
          },
          "metadata": {}
        },
        {
          "output_type": "stream",
          "name": "stdout",
          "text": [
            "Saving twitter_training.csv to twitter_training (4).csv\n"
          ]
        }
      ]
    },
    {
      "cell_type": "code",
      "source": [
        "print(dataset.iloc[:, 2].unique()) #check labels"
      ],
      "metadata": {
        "colab": {
          "base_uri": "https://localhost:8080/"
        },
        "id": "WSzv2aSGJJfI",
        "outputId": "9dbea462-0bc3-426e-f91e-aaf9bab26b39"
      },
      "execution_count": 2,
      "outputs": [
        {
          "output_type": "stream",
          "name": "stdout",
          "text": [
            "['Positive' 'Neutral' 'Negative' 'Irrelevant']\n"
          ]
        }
      ]
    },
    {
      "cell_type": "code",
      "source": [
        "#We want to only include Positive and Negatives as this is much more accurate than doing all 4\n",
        "for x in dataset.index:\n",
        "  #Check if any cell in the row contains 'Neutral' or 'Irrelevant' and then drop those rows\n",
        "    if dataset.loc[x].isin(['Neutral','Irrelevant']).any():\n",
        "        dataset.drop(x, inplace=True)"
      ],
      "metadata": {
        "id": "VfBy9O46ORlM"
      },
      "execution_count": 3,
      "outputs": []
    },
    {
      "cell_type": "code",
      "source": [
        "print(dataset.iloc[:, 2].unique())# check remaining labels"
      ],
      "metadata": {
        "colab": {
          "base_uri": "https://localhost:8080/"
        },
        "outputId": "681c4d55-540b-49dc-9786-ff3bd1112f80",
        "id": "87OOoMG9PSo5"
      },
      "execution_count": 4,
      "outputs": [
        {
          "output_type": "stream",
          "name": "stdout",
          "text": [
            "['Positive' 'Negative']\n"
          ]
        }
      ]
    },
    {
      "cell_type": "code",
      "source": [
        "#keep only the tweet content and label\n",
        "pdataset = dataset.iloc[:, [2, 3]]\n",
        "#drop any rows containing missing values\n",
        "pdataset = pdataset.dropna()\n",
        "#limit dataset to first 2000 rows for speed and so it is only tweets about borderlands\n",
        "pdataset = pdataset.iloc[:2000, :2]\n",
        "\n",
        "\n",
        "print(pdataset.shape)\n",
        "print(pdataset.head())\n",
        "pdataset.info()"
      ],
      "metadata": {
        "colab": {
          "base_uri": "https://localhost:8080/"
        },
        "id": "Oq4GMe9Z0idr",
        "outputId": "3dd70c23-ea95-4de1-8c65-7a7ac7534c7d"
      },
      "execution_count": 5,
      "outputs": [
        {
          "output_type": "stream",
          "name": "stdout",
          "text": [
            "(2000, 2)\n",
            "   Positive im getting on borderlands and i will murder you all ,\n",
            "0  Positive  I am coming to the borders and I will kill you...   \n",
            "1  Positive  im getting on borderlands and i will kill you ...   \n",
            "2  Positive  im coming on borderlands and i will murder you...   \n",
            "3  Positive  im getting on borderlands 2 and i will murder ...   \n",
            "4  Positive  im getting into borderlands and i can murder y...   \n",
            "<class 'pandas.core.frame.DataFrame'>\n",
            "Index: 2000 entries, 0 to 3251\n",
            "Data columns (total 2 columns):\n",
            " #   Column                                                 Non-Null Count  Dtype \n",
            "---  ------                                                 --------------  ----- \n",
            " 0   Positive                                               2000 non-null   object\n",
            " 1   im getting on borderlands and i will murder you all ,  2000 non-null   object\n",
            "dtypes: object(2)\n",
            "memory usage: 46.9+ KB\n"
          ]
        }
      ]
    },
    {
      "cell_type": "code",
      "source": [
        "#convert from pandas to np\n",
        "npdataset = pdataset.to_numpy()\n",
        "#swap the position of rows\n",
        "npdataset[:, [0, 1]] = npdataset[:, [1, 0]]\n",
        "print(npdataset[:3])\n",
        "#transpose\n",
        "x, y = npdataset.T"
      ],
      "metadata": {
        "colab": {
          "base_uri": "https://localhost:8080/"
        },
        "id": "Rt4L-AkBUSJA",
        "outputId": "aea8a01a-07e4-4e5b-e4f0-e7d5df5a114e"
      },
      "execution_count": 6,
      "outputs": [
        {
          "output_type": "stream",
          "name": "stdout",
          "text": [
            "[['I am coming to the borders and I will kill you all,' 'Positive']\n",
            " ['im getting on borderlands and i will kill you all,' 'Positive']\n",
            " ['im coming on borderlands and i will murder you all,' 'Positive']]\n"
          ]
        }
      ]
    },
    {
      "cell_type": "code",
      "source": [
        "#This code was taken from the coursework example\n",
        "import nltk #import the natural language toolkit\n",
        "\n",
        "nltk.download('punkt')\n",
        "nltk.download('punkt_tab')\n",
        "nltk.download('stopwords') #download the nltk package for stopwords\n",
        "\n",
        "from nltk.tokenize import word_tokenize #import the tokenize package\n",
        "from nltk.corpus import stopwords #import the package from the corpus\n",
        "from nltk.stem.snowball import SnowballStemmer #import the snowball stemmer (also known as Porter2)\n",
        "\n",
        "def prep(X):\n",
        "      prep_text = []\n",
        "      for x in X:\n",
        "            token_text = word_tokenize(x) #tokenize the document\n",
        "            normd_text = [token.lower() for token in token_text] #list compression to apply some simple cleaning (lower case casting and punctuation removal) to tokenized terms\n",
        "\n",
        "            swr_text = [token for token in normd_text if token not in stopwords.words('english')] #list compression to remove any stopwords from our list\n",
        "\n",
        "            stemmer = SnowballStemmer(\"english\") #specify we are using the English stemming rules, as other languages are present in toolkit\n",
        "            prep_text += [[stemmer.stem(word) for word in swr_text]] #list compression for applying the stemmer\n",
        "\n",
        "      prep_sentences = [\" \".join(sentence) for sentence in prep_text] #we join the sentences back together to ensure compatibility with CountVec, which is doing some of it's own prep\n",
        "      return prep_sentences\n",
        "\n",
        "prep_x = prep(x)"
      ],
      "metadata": {
        "colab": {
          "base_uri": "https://localhost:8080/"
        },
        "id": "yMHFCjfFT2CR",
        "outputId": "6a1868f4-55ec-4fef-867f-d6a8b08c21c7"
      },
      "execution_count": 7,
      "outputs": [
        {
          "output_type": "stream",
          "name": "stderr",
          "text": [
            "[nltk_data] Downloading package punkt to /root/nltk_data...\n",
            "[nltk_data]   Package punkt is already up-to-date!\n",
            "[nltk_data] Downloading package punkt_tab to /root/nltk_data...\n",
            "[nltk_data]   Package punkt_tab is already up-to-date!\n",
            "[nltk_data] Downloading package stopwords to /root/nltk_data...\n",
            "[nltk_data]   Package stopwords is already up-to-date!\n"
          ]
        }
      ]
    },
    {
      "cell_type": "markdown",
      "source": [
        "##Representation Learning\n",
        "\n",
        "To convert the textual data to numerical vectors I decided to use Word2Vec because I was familiar with it and it's quite a popular and easy to use option.\n",
        "\n",
        "Word2Vec works by representing each word as a multi-dimensional vector, so that the meaning of the word can be interperted by the position of the word in multi-dimesional space\n",
        "\n",
        "Word2Vec uses either Continuous bag of words(CBOW) or skip-gram, by default CBOW is used and that is what I used on this project. The difference between the two is that CBOW predicts the central word by using the context words surrounding it, which contain a few words before and after the current word. Skip-gram does the opposite it predicts the surrounding context words by using the central word."
      ],
      "metadata": {
        "id": "GZXT0ZQJX29d"
      }
    },
    {
      "cell_type": "code",
      "source": [
        "from gensim.models import Word2Vec #import word2vec"
      ],
      "metadata": {
        "id": "z5dRqzyRgtEw"
      },
      "execution_count": 8,
      "outputs": []
    },
    {
      "cell_type": "code",
      "source": [
        "import numpy as np\n",
        "\n",
        "# Example of word2vec_rep function\n",
        "def word2vec_rep(text, model):\n",
        "    # Assuming text is tokenized into words\n",
        "    vectors = [model.wv[word] for word in text if word in model.wv]\n",
        "    if len(vectors) == 0:\n",
        "        # Return a zero vector if no words found in the model\n",
        "        return np.zeros(model.vector_size)\n",
        "    # Average the word vectors to get a fixed-length vector for the text\n",
        "    return np.mean(vectors, axis=0)"
      ],
      "metadata": {
        "id": "rgQ3u6Kgk922"
      },
      "execution_count": 9,
      "outputs": []
    },
    {
      "cell_type": "markdown",
      "source": [
        "## Algorithms\n",
        "\n",
        "#Linear SVC\n",
        "Linear Support Vector Classification is a scalable version of SVC used for classification. LinearSVC like other versions of SVC is capable of performing muti-class and binary classification on a dataset. It is also different to other SVC due to using squared_hinge loss and its implementation in liblinear instead of libsvc, which gives it more possible variety in the choices of loss functions and penalties and so theoretically scales better to large sample counts.\n",
        "\n",
        "I picked this alogrithm as scikit learn[1] reccomended it for classification\n",
        "\n",
        "#Gradient Boosted Decision Trees\n",
        "\n",
        "Gradient Boosted Decision Trees (GBDT) is an ensemble method like Random Forest, Ensemble methods work by combining the predictions of multiple base estimators with a given learning alogritm to improve robustness over a single estimator.\n",
        "\n",
        "GradientBoostingClassifier supports both binary and multi-class classification much like LinearSVC, however HistGradientBoostingClassifier is better when dealing with a large number of classes, however we are only dealing with two classes so this works fine.\n",
        "\n",
        "\n",
        "**References**\n",
        "https://scikit-learn.org/stable/machine_learning_map.html [1]"
      ],
      "metadata": {
        "id": "RA9j8rA_bEet"
      }
    },
    {
      "cell_type": "code",
      "source": [
        "#Code was taken from coursework example and modified\n",
        "from sklearn.svm import LinearSVC\n",
        "from sklearn.ensemble import GradientBoostingClassifier\n",
        "from sklearn.model_selection import StratifiedKFold\n",
        "from sklearn.metrics import accuracy_score\n",
        "from gensim.models import Word2Vec\n",
        "import numpy as np\n",
        "prepn_x = np.array(prep_x)\n",
        "\n",
        "lsvc_score = []\n",
        "gbc_score = []\n",
        "\n",
        "kf = StratifiedKFold(n_splits=5)\n",
        "\n",
        "\n",
        "# Pre-train Word2Vec on the shortened dataset\n",
        "w2v_model = Word2Vec(vector_size=300, window=5, min_count=3, workers=4)\n",
        "w2v_model.build_vocab(prepn_x, update=None)\n",
        "w2v_model.train(corpus_iterable=prepn_x, total_examples=len(prepn_x), epochs=10)\n",
        "\n",
        "for train, test in kf.split(prepn_x, y):\n",
        "    x_train, x_test, y_train, y_test = prepn_x[train], prepn_x[test], y[train], y[test]\n",
        "\n",
        "    # Get word representations for train and test sets\n",
        "    x_train_representations = [word2vec_rep(instance, w2v_model) for instance in x_train]\n",
        "    x_test_representations = [word2vec_rep(instance, w2v_model) for instance in x_test]\n",
        "\n",
        "    # Convert to NumPy arrays for lsvc and GBC\n",
        "    x_train_representations = np.array(x_train_representations)\n",
        "    x_test_representations = np.array(x_test_representations)\n",
        "\n",
        "\n",
        "    lsvc = LinearSVC(random_state=0, tol=1e-5)\n",
        "    lsvc.fit(x_train_representations, y_train)\n",
        "    lsvc_predictions = lsvc.predict(x_test_representations)\n",
        "    lsvc_acc = accuracy_score(lsvc_predictions, y_test)\n",
        "    lsvc_score.append(lsvc_acc)\n",
        "\n",
        "    gbc = GradientBoostingClassifier(n_estimators=100, learning_rate=1.0, max_depth=1, random_state=0)\n",
        "    gbc.fit(x_train_representations, y_train)\n",
        "    gbc_predictions = gbc.predict(x_test_representations)\n",
        "    gbc_acc = accuracy_score(gbc_predictions, y_test)\n",
        "    gbc_score.append(gbc_acc)\n",
        "\n",
        "# Print average accuracy of both models\n",
        "print(\"GBC Accuracy:\", np.mean(gbc_score), \"lsvc Accuracy:\", np.mean(lsvc_score))\n"
      ],
      "metadata": {
        "colab": {
          "base_uri": "https://localhost:8080/"
        },
        "id": "AJYkX9ndlH9E",
        "outputId": "85aa495e-fcb3-4183-a983-94d3abf5e3d5"
      },
      "execution_count": 10,
      "outputs": [
        {
          "output_type": "stream",
          "name": "stderr",
          "text": [
            "WARNING:gensim.models.word2vec:Each 'sentences' item should be a list of words (usually unicode strings). First item here is instead plain <class 'numpy.str_'>.\n"
          ]
        },
        {
          "output_type": "stream",
          "name": "stdout",
          "text": [
            "GBC Accuracy: 0.633 lsvc Accuracy: 0.6759999999999999\n"
          ]
        }
      ]
    },
    {
      "cell_type": "markdown",
      "source": [
        "## Evaluation"
      ],
      "metadata": {
        "id": "HjaRsPHjhFZP"
      }
    },
    {
      "cell_type": "code",
      "source": [
        "#Code was taken from coursework example and modified\n",
        "import matplotlib as plt\n",
        "\n",
        "#put model scores in an array\n",
        "model_comp = []\n",
        "model_comp.append(gbc_score)\n",
        "model_comp.append(lsvc_score)\n",
        "\n",
        "fig, ax2 = plt.pyplot.subplots()\n",
        "ax2.set_title('Algorithm Performance')\n",
        "ax2.boxplot(model_comp)\n",
        "ax2.set_xticklabels(['GradientBoostingClassifier', 'LinearSVC'], rotation='horizontal')"
      ],
      "metadata": {
        "colab": {
          "base_uri": "https://localhost:8080/",
          "height": 469
        },
        "id": "IFPcz89ydg9s",
        "outputId": "e429940e-f90b-45da-b61e-fe18c006c0ed"
      },
      "execution_count": 11,
      "outputs": [
        {
          "output_type": "execute_result",
          "data": {
            "text/plain": [
              "[Text(1, 0, 'GradientBoostingClassifier'), Text(2, 0, 'LinearSVC')]"
            ]
          },
          "metadata": {},
          "execution_count": 11
        },
        {
          "output_type": "display_data",
          "data": {
            "text/plain": [
              "<Figure size 640x480 with 1 Axes>"
            ],
            "image/png": "[encoded data removed]"
          },
          "metadata": {}
        }
      ]
    },
    {
      "cell_type": "markdown",
      "source": [
        "As we can see from the results shown in the box plot, LinearSVC out performs the GradientBoostingClassifier when it comes to binary classification of the dataset.\n",
        "However, I am wondering if better representation learning or tweaking some of the values of the algorithms would give us a better result, or whether trying different algorithms might be needed as they weren't as accurate as I'd like."
      ],
      "metadata": {
        "id": "VfYGQOW_hLL6"
      }
    }
  ]
}